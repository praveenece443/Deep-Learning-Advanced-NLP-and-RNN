{
 "cells": [
  {
   "cell_type": "code",
   "execution_count": 1,
   "metadata": {},
   "outputs": [],
   "source": [
    "import numpy as np\n",
    "import pandas as pd\n",
    "import matplotlib.pyplot as plt\n",
    "import tensorflow.keras.backend as K\n",
    "from tensorflow.keras.layers import Input,Bidirectional,LSTM,GRU,GlobalMaxPooling1D,Lambda,Concatenate, Dense\n",
    "from tensorflow.keras.models import Model"
   ]
  },
  {
   "cell_type": "code",
   "execution_count": 2,
   "metadata": {},
   "outputs": [],
   "source": [
    "data = pd.read_csv('mnist_data/mnist_train.csv').to_numpy()\n",
    "np.random.shuffle(data)"
   ]
  },
  {
   "cell_type": "code",
   "execution_count": 3,
   "metadata": {},
   "outputs": [],
   "source": [
    "X = data[:,1:].reshape(-1,28,28) / 255.0\n",
    "Y = data[:,0]"
   ]
  },
  {
   "cell_type": "code",
   "execution_count": 4,
   "metadata": {},
   "outputs": [],
   "source": [
    "D = 28\n",
    "M = 15"
   ]
  },
  {
   "cell_type": "code",
   "execution_count": 5,
   "metadata": {},
   "outputs": [
    {
     "name": "stdout",
     "output_type": "stream",
     "text": [
      "Model: \"model\"\n",
      "__________________________________________________________________________________________________\n",
      "Layer (type)                    Output Shape         Param #     Connected to                     \n",
      "==================================================================================================\n",
      "input_1 (InputLayer)            [(None, 28, 28)]     0                                            \n",
      "__________________________________________________________________________________________________\n",
      "lambda (Lambda)                 (None, 28, 28)       0           input_1[0][0]                    \n",
      "__________________________________________________________________________________________________\n",
      "bidirectional (Bidirectional)   (None, 28, 30)       5280        input_1[0][0]                    \n",
      "__________________________________________________________________________________________________\n",
      "bidirectional_1 (Bidirectional) (None, 28, 30)       5280        lambda[0][0]                     \n",
      "__________________________________________________________________________________________________\n",
      "global_max_pooling1d (GlobalMax (None, 30)           0           bidirectional[0][0]              \n",
      "__________________________________________________________________________________________________\n",
      "global_max_pooling1d_1 (GlobalM (None, 30)           0           bidirectional_1[0][0]            \n",
      "__________________________________________________________________________________________________\n",
      "concatenate (Concatenate)       (None, 60)           0           global_max_pooling1d[0][0]       \n",
      "                                                                 global_max_pooling1d_1[0][0]     \n",
      "__________________________________________________________________________________________________\n",
      "dense (Dense)                   (None, 10)           610         concatenate[0][0]                \n",
      "==================================================================================================\n",
      "Total params: 11,170\n",
      "Trainable params: 11,170\n",
      "Non-trainable params: 0\n",
      "__________________________________________________________________________________________________\n"
     ]
    }
   ],
   "source": [
    "# Enter image input and apply to RNN\n",
    "input_ = Input(shape=(D,D))\n",
    "rnn1 = Bidirectional(LSTM(M, return_sequences=True))\n",
    "x1 = rnn1(input_)\n",
    "x1 = GlobalMaxPooling1D()(x1)\n",
    "# Rotate image input and apply to RNN\n",
    "rnn2 = Bidirectional(LSTM(M, return_sequences=True))\n",
    "permutor = Lambda(lambda t: K.permute_dimensions(t,pattern=(0,2,1)))\n",
    "x2 = permutor(input_)\n",
    "x2 = rnn2(x2)\n",
    "x2 = GlobalMaxPooling1D()(x2)\n",
    "# COncatenate RNN1 and RNN2\n",
    "concatenator = Concatenate(axis = 1)\n",
    "x = concatenator([x1,x2])\n",
    "output = Dense(10, activation='Softmax')(x)\n",
    "#Make model\n",
    "model = Model(inputs=input_, outputs = output)\n",
    "model.summary()"
   ]
  },
  {
   "cell_type": "code",
   "execution_count": 6,
   "metadata": {},
   "outputs": [],
   "source": [
    "model.compile(loss='sparse_categorical_crossentropy', optimizer='adam', metrics=['accuracy'])"
   ]
  },
  {
   "cell_type": "code",
   "execution_count": 7,
   "metadata": {},
   "outputs": [
    {
     "name": "stdout",
     "output_type": "stream",
     "text": [
      "Epoch 1/10\n",
      "94/94 [==============================] - 9s 29ms/step - loss: 1.8934 - accuracy: 0.5166 - val_loss: 1.3200 - val_accuracy: 0.7442\n",
      "Epoch 2/10\n",
      "94/94 [==============================] - 1s 15ms/step - loss: 0.9102 - accuracy: 0.8214 - val_loss: 0.6120 - val_accuracy: 0.8715\n",
      "Epoch 3/10\n",
      "94/94 [==============================] - 1s 14ms/step - loss: 0.4860 - accuracy: 0.8948 - val_loss: 0.3858 - val_accuracy: 0.9122\n",
      "Epoch 4/10\n",
      "94/94 [==============================] - 1s 14ms/step - loss: 0.3328 - accuracy: 0.9225 - val_loss: 0.2884 - val_accuracy: 0.9292\n",
      "Epoch 5/10\n",
      "94/94 [==============================] - 1s 14ms/step - loss: 0.2609 - accuracy: 0.9357 - val_loss: 0.2376 - val_accuracy: 0.9377\n",
      "Epoch 6/10\n",
      "94/94 [==============================] - 1s 14ms/step - loss: 0.2190 - accuracy: 0.9436 - val_loss: 0.2066 - val_accuracy: 0.9448\n",
      "Epoch 7/10\n",
      "94/94 [==============================] - 1s 13ms/step - loss: 0.1904 - accuracy: 0.9500 - val_loss: 0.1815 - val_accuracy: 0.9522\n",
      "Epoch 8/10\n",
      "94/94 [==============================] - 1s 14ms/step - loss: 0.1710 - accuracy: 0.9552 - val_loss: 0.1669 - val_accuracy: 0.9553\n",
      "Epoch 9/10\n",
      "94/94 [==============================] - 1s 13ms/step - loss: 0.1553 - accuracy: 0.9588 - val_loss: 0.1543 - val_accuracy: 0.9578uracy: 0.\n",
      "Epoch 10/10\n",
      "94/94 [==============================] - 1s 13ms/step - loss: 0.1428 - accuracy: 0.9610 - val_loss: 0.1428 - val_accuracy: 0.9608\n"
     ]
    }
   ],
   "source": [
    "h = model.fit(X,Y, batch_size = 512, epochs = 10, validation_split=0.2)"
   ]
  },
  {
   "cell_type": "code",
   "execution_count": 8,
   "metadata": {},
   "outputs": [
    {
     "data": {
      "image/png": "[encoded data removed]",
      "text/plain": [
       "<Figure size 432x288 with 1 Axes>"
      ]
     },
     "metadata": {
      "needs_background": "light"
     },
     "output_type": "display_data"
    },
    {
     "data": {
      "image/png": "[encoded data removed]",
      "text/plain": [
       "<Figure size 432x288 with 1 Axes>"
      ]
     },
     "metadata": {
      "needs_background": "light"
     },
     "output_type": "display_data"
    }
   ],
   "source": [
    "plt.plot(h.history['loss'],label = 'loss')\n",
    "plt.plot(h.history['val_loss'],label = 'validation_loss')\n",
    "plt.legend()\n",
    "plt.show()\n",
    "\n",
    "plt.plot(h.history['accuracy'],label = 'acc')\n",
    "plt.plot(h.history['val_accuracy'],label = 'validation_acc')\n",
    "plt.legend()\n",
    "plt.show()"
   ]
  },
  {
   "cell_type": "code",
   "execution_count": null,
   "metadata": {},
   "outputs": [],
   "source": []
  }
 ],
 "metadata": {
  "kernelspec": {
   "display_name": "Python 3",
   "language": "python",
   "name": "python3"
  },
  "language_info": {
   "codemirror_mode": {
    "name": "ipython",
    "version": 3
   },
   "file_extension": ".py",
   "mimetype": "text/x-python",
   "name": "python",
   "nbconvert_exporter": "python",
   "pygments_lexer": "ipython3",
   "version": "3.8.5"
  }
 },
 "nbformat": 4,
 "nbformat_minor": 4
}
