{
 "cells": [
  {
   "cell_type": "code",
   "execution_count": 1,
   "metadata": {},
   "outputs": [],
   "source": [
    "import numpy as np\n",
    "import matplotlib.pyplot as plt\n",
    "from tensorflow.keras.models import Model\n",
    "from tensorflow.keras.layers import Input, LSTM, GRU, Bidirectional"
   ]
  },
  {
   "cell_type": "code",
   "execution_count": 2,
   "metadata": {},
   "outputs": [],
   "source": [
    "T = 8\n",
    "D = 2\n",
    "M = 3"
   ]
  },
  {
   "cell_type": "code",
   "execution_count": 3,
   "metadata": {},
   "outputs": [],
   "source": [
    "X = np.random.randn(1, T, D)"
   ]
  },
  {
   "cell_type": "code",
   "execution_count": 4,
   "metadata": {},
   "outputs": [
    {
     "name": "stdout",
     "output_type": "stream",
     "text": [
      "[[[-1.87171987 -0.08259338]\n",
      "  [-0.14598867  1.97546405]\n",
      "  [ 1.09927105 -0.20543904]\n",
      "  [-0.32963817  0.40001905]\n",
      "  [ 0.65010311  1.828023  ]\n",
      "  [-0.02007692  0.2562293 ]\n",
      "  [-0.93879494 -0.96806222]\n",
      "  [ 0.62621956 -1.59947435]]]\n"
     ]
    }
   ],
   "source": [
    "print(X)"
   ]
  },
  {
   "cell_type": "markdown",
   "metadata": {},
   "source": [
    "## With Return Statees"
   ]
  },
  {
   "cell_type": "code",
   "execution_count": 5,
   "metadata": {},
   "outputs": [],
   "source": [
    "def lstm1():\n",
    "    input_ = Input(shape=(T,D))\n",
    "    rnn = Bidirectional(LSTM(M, return_state = True))\n",
    "    x = rnn(input_)\n",
    "    model = Model(inputs=input_, outputs=x)\n",
    "    o,h1,c1, h2, c2 = model.predict(X)\n",
    "    print(\"Output State is : \", o)\n",
    "    print(\"Hidden State Forward is : \", h1)\n",
    "    print(\"Cell State Forward is : \", c1)\n",
    "    print(\"Hidden State Backward is : \", h2)\n",
    "    print(\"Cell State Backward is : \", c2)"
   ]
  },
  {
   "cell_type": "code",
   "execution_count": 6,
   "metadata": {},
   "outputs": [
    {
     "name": "stdout",
     "output_type": "stream",
     "text": [
      "Output State is :  [[ 0.06571475 -0.02487938 -0.09495559 -0.57755727 -0.05710207  0.21104956]]\n",
      "Hidden State Forward is :  [[ 0.06571475 -0.02487938 -0.09495559]]\n",
      "Cell State Forward is :  [[ 0.0891399  -0.07864401 -0.28848863]]\n",
      "Hidden State Backward is :  [[-0.57755727 -0.05710207  0.21104956]]\n",
      "Cell State Backward is :  [[-1.0757315  -0.17955284  0.32412967]]\n"
     ]
    }
   ],
   "source": [
    "lstm1()"
   ]
  },
  {
   "cell_type": "markdown",
   "metadata": {},
   "source": [
    "## With Return States and Return Sequences"
   ]
  },
  {
   "cell_type": "code",
   "execution_count": 7,
   "metadata": {},
   "outputs": [],
   "source": [
    "def lstm2():\n",
    "    input_ = Input(shape=(T,D))\n",
    "    rnn = Bidirectional(LSTM(M, return_state = True, return_sequences = True))\n",
    "    x = rnn(input_)\n",
    "    model = Model(inputs=input_, outputs=x)\n",
    "    o,h1,c1, h2, c2 = model.predict(X)\n",
    "    print(\"Output State is : \", o)\n",
    "    print(\"Hidden State Forward is : \", h1)\n",
    "    print(\"Cell State Forward is : \", c1)\n",
    "    print(\"Hidden State Backward is : \", h2)\n",
    "    print(\"Cell State Backward is : \", c2)"
   ]
  },
  {
   "cell_type": "code",
   "execution_count": 8,
   "metadata": {},
   "outputs": [
    {
     "name": "stdout",
     "output_type": "stream",
     "text": [
      "Output State is :  [[[ 0.01372506 -0.03622774  0.10887402 -0.1403001   0.07373115\n",
      "    0.1629204 ]\n",
      "  [-0.16764866  0.03792358 -0.0562262  -0.10975386 -0.06439384\n",
      "   -0.12988992]\n",
      "  [-0.04136924  0.1373438  -0.10176217 -0.04157387 -0.0303855\n",
      "   -0.06267925]\n",
      "  [-0.07859652  0.09187915 -0.08307807 -0.10378414  0.01536882\n",
      "    0.00533444]\n",
      "  [-0.18750283  0.15367079 -0.23146608 -0.05611564  0.02278277\n",
      "    0.03266577]\n",
      "  [-0.11024841  0.20375456 -0.13425054  0.06845403  0.08618236\n",
      "    0.22069016]\n",
      "  [ 0.04263048  0.15216765  0.01079943  0.2008963   0.10140317\n",
      "    0.3885452 ]\n",
      "  [ 0.12698233  0.13972294  0.0417225   0.16115035  0.02694408\n",
      "    0.18056981]]]\n",
      "Hidden State Forward is :  [[0.12698233 0.13972294 0.0417225 ]]\n",
      "Cell State Forward is :  [[0.42005524 0.20415619 0.1350259 ]]\n",
      "Hidden State Backward is :  [[-0.1403001   0.07373115  0.1629204 ]]\n",
      "Cell State Backward is :  [[-0.19727977  0.2600824   0.25173226]]\n"
     ]
    }
   ],
   "source": [
    "lstm2()"
   ]
  },
  {
   "cell_type": "markdown",
   "metadata": {},
   "source": [
    "## With Return States"
   ]
  },
  {
   "cell_type": "code",
   "execution_count": 9,
   "metadata": {},
   "outputs": [],
   "source": [
    "def gru1():\n",
    "    input_ = Input(shape=(T,D))\n",
    "    rnn = Bidirectional(GRU(M, return_state = True))\n",
    "    x = rnn(input_)\n",
    "    model = Model(inputs=input_, outputs=x)\n",
    "    o,h1, h2 = model.predict(X)\n",
    "    print(\"Output State is : \", o)\n",
    "    print(\"Hidden State Forward is : \", h1)\n",
    "    print(\"Hidden State Backward is : \", h2)"
   ]
  },
  {
   "cell_type": "code",
   "execution_count": 10,
   "metadata": {},
   "outputs": [
    {
     "name": "stdout",
     "output_type": "stream",
     "text": [
      "Output State is :  [[-0.20102169 -0.49340385 -0.2412385  -0.02453041  0.1660212  -0.14241311]]\n",
      "Hidden State Forward is :  [[-0.20102169 -0.49340385 -0.2412385 ]]\n",
      "Hidden State Backward is :  [[-0.02453041  0.1660212  -0.14241311]]\n"
     ]
    }
   ],
   "source": [
    "gru1()"
   ]
  },
  {
   "cell_type": "markdown",
   "metadata": {},
   "source": [
    "## With Return States and Sequences"
   ]
  },
  {
   "cell_type": "code",
   "execution_count": 11,
   "metadata": {},
   "outputs": [],
   "source": [
    "def gru2():\n",
    "    input_ = Input(shape=(T,D))\n",
    "    rnn = Bidirectional(GRU(M, return_state = True, return_sequences = True))\n",
    "    x = rnn(input_)\n",
    "    model = Model(inputs=input_, outputs=x)\n",
    "    o,h1, h2 = model.predict(X)\n",
    "    print(\"Output State is : \", o)\n",
    "    print(\"Hidden State Forward is : \", h1)\n",
    "    print(\"Hidden State Backward is : \", h2)"
   ]
  },
  {
   "cell_type": "code",
   "execution_count": 12,
   "metadata": {},
   "outputs": [
    {
     "name": "stdout",
     "output_type": "stream",
     "text": [
      "Output State is :  [[[ 0.36779603 -0.05892747  0.37499514  0.00782293 -0.3093549\n",
      "   -0.13124232]\n",
      "  [ 0.3498089   0.3648405   0.49861535  0.01299037 -0.7440536\n",
      "   -0.08855169]\n",
      "  [ 0.0563151   0.22221264 -0.06354837  0.02157985 -0.12533581\n",
      "   -0.10200525]\n",
      "  [ 0.0804134   0.18652844  0.13313028 -0.00210095 -0.38661045\n",
      "   -0.09765919]\n",
      "  [ 0.05825904  0.4557331   0.24822682 -0.01069621 -0.650729\n",
      "   -0.0178827 ]\n",
      "  [-0.00227847  0.3034046   0.25155288 -0.00326257  0.01776735\n",
      "    0.04827017]\n",
      "  [ 0.07764572  0.13250211  0.24791597  0.01268075  0.31943598\n",
      "    0.03315102]\n",
      "  [-0.22444445  0.00141366 -0.47074276  0.02759653  0.17409304\n",
      "    0.00352484]]]\n",
      "Hidden State Forward is :  [[-0.22444445  0.00141366 -0.47074276]]\n",
      "Hidden State Backward is :  [[ 0.00782293 -0.3093549  -0.13124232]]\n"
     ]
    }
   ],
   "source": [
    "gru2()"
   ]
  },
  {
   "cell_type": "code",
   "execution_count": null,
   "metadata": {},
   "outputs": [],
   "source": []
  }
 ],
 "metadata": {
  "kernelspec": {
   "display_name": "Python 3",
   "language": "python",
   "name": "python3"
  },
  "language_info": {
   "codemirror_mode": {
    "name": "ipython",
    "version": 3
   },
   "file_extension": ".py",
   "mimetype": "text/x-python",
   "name": "python",
   "nbconvert_exporter": "python",
   "pygments_lexer": "ipython3",
   "version": "3.8.5"
  }
 },
 "nbformat": 4,
 "nbformat_minor": 4
}
