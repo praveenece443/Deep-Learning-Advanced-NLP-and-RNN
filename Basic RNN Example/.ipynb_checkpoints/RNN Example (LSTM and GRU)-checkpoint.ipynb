{
 "cells": [
  {
   "cell_type": "code",
   "execution_count": 1,
   "metadata": {},
   "outputs": [],
   "source": [
    "import numpy as np\n",
    "import matplotlib.pyplot as plt\n",
    "from tensorflow.keras.models import Model\n",
    "from tensorflow.keras.layers import Input, LSTM, GRU"
   ]
  },
  {
   "cell_type": "code",
   "execution_count": 2,
   "metadata": {},
   "outputs": [],
   "source": [
    "T = 8\n",
    "D = 2\n",
    "M = 3"
   ]
  },
  {
   "cell_type": "code",
   "execution_count": 3,
   "metadata": {},
   "outputs": [],
   "source": [
    "X = np.random.randn(1, T, D)"
   ]
  },
  {
   "cell_type": "code",
   "execution_count": 4,
   "metadata": {},
   "outputs": [
    {
     "name": "stdout",
     "output_type": "stream",
     "text": [
      "[[[-0.59971165  0.17246341]\n",
      "  [ 1.15561571 -1.74775304]\n",
      "  [ 1.88723432  0.250645  ]\n",
      "  [-0.53812079 -1.0518079 ]\n",
      "  [ 1.96595876  0.12447068]\n",
      "  [ 1.3549258  -0.74500467]\n",
      "  [-2.61202694  0.41769957]\n",
      "  [ 0.76701626  0.29284983]]]\n"
     ]
    }
   ],
   "source": [
    "print(X)"
   ]
  },
  {
   "cell_type": "code",
   "execution_count": 5,
   "metadata": {},
   "outputs": [],
   "source": [
    "def lstm1():\n",
    "    input_ = Input(shape=(T,D))\n",
    "    rnn = LSTM(M, return_state = True)\n",
    "    x = rnn(input_)\n",
    "    model = Model(inputs=input_, outputs=x)\n",
    "    o,h,c = model.predict(X)\n",
    "    print(\"Output State is : \", o)\n",
    "    print(\"Hidden State is : \", h)\n",
    "    print(\"Cell State is : \", c)"
   ]
  },
  {
   "cell_type": "code",
   "execution_count": 6,
   "metadata": {},
   "outputs": [
    {
     "name": "stdout",
     "output_type": "stream",
     "text": [
      "Output State is :  [[[-0.08311636 -0.03271988  0.08143404]\n",
      "  [ 0.1050464   0.12529951 -0.36230505]\n",
      "  [ 0.27076462  0.36917335 -0.41316926]\n",
      "  [ 0.21443053  0.13711935 -0.34886083]\n",
      "  [ 0.33272508  0.4337015  -0.4873092 ]\n",
      "  [ 0.36322817  0.37018993 -0.5434222 ]\n",
      "  [ 0.07446581  0.1590978  -0.15860586]\n",
      "  [ 0.1521792   0.3319603  -0.3301724 ]]]\n"
     ]
    }
   ],
   "source": [
    "lstm1()"
   ]
  },
  {
   "cell_type": "code",
   "execution_count": null,
   "metadata": {},
   "outputs": [],
   "source": []
  }
 ],
 "metadata": {
  "kernelspec": {
   "display_name": "Python 3",
   "language": "python",
   "name": "python3"
  },
  "language_info": {
   "codemirror_mode": {
    "name": "ipython",
    "version": 3
   },
   "file_extension": ".py",
   "mimetype": "text/x-python",
   "name": "python",
   "nbconvert_exporter": "python",
   "pygments_lexer": "ipython3",
   "version": "3.8.5"
  }
 },
 "nbformat": 4,
 "nbformat_minor": 4
}
