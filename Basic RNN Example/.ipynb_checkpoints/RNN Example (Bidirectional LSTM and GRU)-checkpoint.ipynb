{
 "cells": [
  {
   "cell_type": "code",
   "execution_count": 1,
   "metadata": {},
   "outputs": [],
   "source": [
    "import numpy as np\n",
    "import matplotlib.pyplot as plt\n",
    "from tensorflow.keras.models import Model\n",
    "from tensorflow.keras.layers import Input, LSTM, GRU"
   ]
  },
  {
   "cell_type": "code",
   "execution_count": 2,
   "metadata": {},
   "outputs": [],
   "source": [
    "T = 8\n",
    "D = 2\n",
    "M = 3"
   ]
  },
  {
   "cell_type": "code",
   "execution_count": 3,
   "metadata": {},
   "outputs": [],
   "source": [
    "X = np.random.randn(1, T, D)"
   ]
  },
  {
   "cell_type": "code",
   "execution_count": 4,
   "metadata": {},
   "outputs": [
    {
     "name": "stdout",
     "output_type": "stream",
     "text": [
      "[[[-0.7238601   0.18324976]\n",
      "  [-1.23314962  0.35870345]\n",
      "  [-0.30878515 -1.85535732]\n",
      "  [-2.4896262   0.73766756]\n",
      "  [ 1.07541127 -0.82232894]\n",
      "  [-0.49210544 -0.32437694]\n",
      "  [-0.17864044  0.5662051 ]\n",
      "  [ 0.12423463 -0.30849666]]]\n"
     ]
    }
   ],
   "source": [
    "print(X)"
   ]
  },
  {
   "cell_type": "markdown",
   "metadata": {},
   "source": [
    "## With Return Statees"
   ]
  },
  {
   "cell_type": "code",
   "execution_count": 5,
   "metadata": {},
   "outputs": [],
   "source": [
    "def lstm1():\n",
    "    input_ = Input(shape=(T,D))\n",
    "    rnn = LSTM(M, return_state = True)\n",
    "    x = rnn(input_)\n",
    "    model = Model(inputs=input_, outputs=x)\n",
    "    o,h,c = model.predict(X)\n",
    "    print(\"Output State is : \", o)\n",
    "    print(\"Hidden State is : \", h)\n",
    "    print(\"Cell State is : \", c)"
   ]
  },
  {
   "cell_type": "code",
   "execution_count": 6,
   "metadata": {},
   "outputs": [
    {
     "name": "stdout",
     "output_type": "stream",
     "text": [
      "Output State is :  [[ 0.12777184  0.07044308 -0.03273471]]\n",
      "Hidden State is :  [[ 0.12777184  0.07044308 -0.03273471]]\n",
      "Cell State is :  [[ 0.25894833  0.15005548 -0.06733687]]\n"
     ]
    }
   ],
   "source": [
    "lstm1()"
   ]
  },
  {
   "cell_type": "markdown",
   "metadata": {},
   "source": [
    "## With Return States and Return Sequences"
   ]
  },
  {
   "cell_type": "code",
   "execution_count": 7,
   "metadata": {},
   "outputs": [],
   "source": [
    "def lstm2():\n",
    "    input_ = Input(shape=(T,D))\n",
    "    rnn = LSTM(M, return_state = True, return_sequences = True)\n",
    "    x = rnn(input_)\n",
    "    model = Model(inputs=input_, outputs=x)\n",
    "    o,h,c = model.predict(X)\n",
    "    print(\"Output State is : \", o)\n",
    "    print(\"Hidden State is : \", h)\n",
    "    print(\"Cell State is : \", c)"
   ]
  },
  {
   "cell_type": "code",
   "execution_count": 8,
   "metadata": {},
   "outputs": [
    {
     "name": "stdout",
     "output_type": "stream",
     "text": [
      "Output State is :  [[[ 0.05818795  0.05418415 -0.06832867]\n",
      "  [ 0.12272     0.10735453 -0.1631573 ]\n",
      "  [ 0.28389212 -0.03789726  0.00592117]\n",
      "  [ 0.37698737  0.06701561 -0.20359412]\n",
      "  [ 0.13842694 -0.04322734  0.02508001]\n",
      "  [ 0.24930261 -0.02642798  0.01708573]\n",
      "  [ 0.16055831  0.0241464  -0.07317642]\n",
      "  [ 0.15214327 -0.03349011 -0.00661131]]]\n",
      "Hidden State is :  [[ 0.15214327 -0.03349011 -0.00661131]]\n",
      "Cell State is :  [[ 0.334725   -0.06652343 -0.01412418]]\n"
     ]
    }
   ],
   "source": [
    "lstm2()"
   ]
  },
  {
   "cell_type": "markdown",
   "metadata": {},
   "source": [
    "## With Return States"
   ]
  },
  {
   "cell_type": "code",
   "execution_count": 9,
   "metadata": {},
   "outputs": [],
   "source": [
    "def gru1():\n",
    "    input_ = Input(shape=(T,D))\n",
    "    rnn = GRU(M, return_state = True)\n",
    "    x = rnn(input_)\n",
    "    model = Model(inputs=input_, outputs=x)\n",
    "    o,h = model.predict(X)\n",
    "    print(\"Output State is : \", o)\n",
    "    print(\"Hidden State is : \", h)"
   ]
  },
  {
   "cell_type": "code",
   "execution_count": 10,
   "metadata": {},
   "outputs": [
    {
     "name": "stdout",
     "output_type": "stream",
     "text": [
      "Output State is :  [[0.04963249 0.02180754 0.0290288 ]]\n",
      "Hidden State is :  [[0.04963249 0.02180754 0.0290288 ]]\n"
     ]
    }
   ],
   "source": [
    "gru1()"
   ]
  },
  {
   "cell_type": "markdown",
   "metadata": {},
   "source": [
    "## With Return States and Sequences"
   ]
  },
  {
   "cell_type": "code",
   "execution_count": 11,
   "metadata": {},
   "outputs": [],
   "source": [
    "def gru2():\n",
    "    input_ = Input(shape=(T,D))\n",
    "    rnn = GRU(M, return_state = True, return_sequences = True)\n",
    "    x = rnn(input_)\n",
    "    model = Model(inputs=input_, outputs=x)\n",
    "    o,h = model.predict(X)\n",
    "    print(\"Output State is : \", o)\n",
    "    print(\"Hidden State is : \", h)"
   ]
  },
  {
   "cell_type": "code",
   "execution_count": 12,
   "metadata": {},
   "outputs": [
    {
     "name": "stdout",
     "output_type": "stream",
     "text": [
      "Output State is :  [[[-0.16253918 -0.12012751 -0.014119  ]\n",
      "  [-0.3161882  -0.23912546 -0.05115263]\n",
      "  [-0.3225547   0.6052339   0.10690918]\n",
      "  [-0.57452625  0.32275265  0.03877689]\n",
      "  [-0.19652006  0.58994704  0.15255512]\n",
      "  [-0.17356423  0.2907244   0.14928797]\n",
      "  [-0.00734706 -0.00931884 -0.07433821]\n",
      "  [ 0.00275716  0.13657854  0.02423737]]]\n",
      "Hidden State is :  [[0.00275716 0.13657854 0.02423737]]\n"
     ]
    }
   ],
   "source": [
    "gru2()"
   ]
  },
  {
   "cell_type": "code",
   "execution_count": null,
   "metadata": {},
   "outputs": [],
   "source": []
  }
 ],
 "metadata": {
  "kernelspec": {
   "display_name": "Python 3",
   "language": "python",
   "name": "python3"
  },
  "language_info": {
   "codemirror_mode": {
    "name": "ipython",
    "version": 3
   },
   "file_extension": ".py",
   "mimetype": "text/x-python",
   "name": "python",
   "nbconvert_exporter": "python",
   "pygments_lexer": "ipython3",
   "version": "3.8.5"
  }
 },
 "nbformat": 4,
 "nbformat_minor": 4
}
