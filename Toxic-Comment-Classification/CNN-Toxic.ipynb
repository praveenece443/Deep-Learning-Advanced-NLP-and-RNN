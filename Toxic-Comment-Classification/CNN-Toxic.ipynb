{
 "cells": [
  {
   "cell_type": "code",
   "execution_count": 1,
   "metadata": {},
   "outputs": [],
   "source": [
    "import os\n",
    "import pandas as pd\n",
    "import numpy as np\n",
    "import matplotlib.pyplot as plt\n",
    "from tensorflow.keras.preprocessing.text import Tokenizer\n",
    "from tensorflow.keras.preprocessing.sequence import pad_sequences\n",
    "from tensorflow.keras.layers import Input, Dense, GlobalMaxPooling1D\n",
    "from tensorflow.keras.layers import Conv1D, MaxPooling1D, Embedding\n",
    "from tensorflow.keras.models import Model\n",
    "from sklearn.metrics import roc_auc_score"
   ]
  },
  {
   "cell_type": "code",
   "execution_count": 2,
   "metadata": {},
   "outputs": [],
   "source": [
    "MAX_SEQUENCE_LENGTH = 100\n",
    "MAX_VOCAB_SIZE=20000\n",
    "EMBEDDING_DIM=100\n",
    "EPOCHS=10\n",
    "BATCH_SIZE=512"
   ]
  },
  {
   "cell_type": "code",
   "execution_count": 3,
   "metadata": {},
   "outputs": [
    {
     "name": "stdout",
     "output_type": "stream",
     "text": [
      "[] Info: Loading Word2Vecs ... \n"
     ]
    }
   ],
   "source": [
    "print(\"[] Info: Loading Word2Vecs ... \")\n",
    "word2vec = {}\n",
    "\n",
    "glove_file = open('glove6d/glove.6B.100d.txt', encoding=\"utf8\")\n",
    "\n",
    "for line in glove_file:\n",
    "    records = line.split()\n",
    "    word = records[0]\n",
    "    vector_dimensions = np.asarray(records[1:], dtype='float32')\n",
    "    word2vec[word] = vector_dimensions\n",
    "glove_file.close()"
   ]
  },
  {
   "cell_type": "code",
   "execution_count": 4,
   "metadata": {},
   "outputs": [],
   "source": [
    "train = pd.read_csv('toxic_data/train.csv')\n",
    "sentences = train['comment_text'].fillna('DUMMY_VALUE').values\n",
    "possible_labels = ['toxic','severe_toxic','obscene','threat','insult','identity_hate']\n",
    "target = train[possible_labels].values"
   ]
  },
  {
   "cell_type": "code",
   "execution_count": 5,
   "metadata": {},
   "outputs": [
    {
     "name": "stdout",
     "output_type": "stream",
     "text": [
      "Max length of Sequence is : 5000\n",
      "Min length of Sequence is : 6\n",
      "Median length of Sequence is : 205\n"
     ]
    }
   ],
   "source": [
    "print(f\"Max length of Sequence is : {max(len(s) for s in sentences)}\")\n",
    "print(f\"Min length of Sequence is : {min(len(s) for s in sentences)}\")\n",
    "s = sorted(len(s) for s in sentences)\n",
    "print(f\"Median length of Sequence is : {s[len(s) // 2]}\")"
   ]
  },
  {
   "cell_type": "code",
   "execution_count": 6,
   "metadata": {},
   "outputs": [],
   "source": [
    "tokenizer = Tokenizer(num_words = MAX_VOCAB_SIZE)\n",
    "tokenizer.fit_on_texts(sentences)\n",
    "sequences = tokenizer.texts_to_sequences(sentences)"
   ]
  },
  {
   "cell_type": "code",
   "execution_count": 7,
   "metadata": {},
   "outputs": [
    {
     "name": "stdout",
     "output_type": "stream",
     "text": [
      "Length of Unique words are 210337\n"
     ]
    }
   ],
   "source": [
    "word2idx = tokenizer.word_index\n",
    "print(f\"Length of Unique words are {len(word2idx)}\")"
   ]
  },
  {
   "cell_type": "code",
   "execution_count": 8,
   "metadata": {},
   "outputs": [
    {
     "name": "stdout",
     "output_type": "stream",
     "text": [
      "(159571, 100)\n"
     ]
    }
   ],
   "source": [
    "data = pad_sequences(sequences,maxlen= MAX_SEQUENCE_LENGTH)\n",
    "print(data.shape)"
   ]
  },
  {
   "cell_type": "code",
   "execution_count": 9,
   "metadata": {},
   "outputs": [],
   "source": [
    "num_words = min(MAX_VOCAB_SIZE,len(word2idx)+1)"
   ]
  },
  {
   "cell_type": "code",
   "execution_count": 10,
   "metadata": {},
   "outputs": [],
   "source": [
    "embedding_matrix = np.zeros((num_words, EMBEDDING_DIM))\n",
    "for word, index in word2idx.items():\n",
    "    if index < MAX_VOCAB_SIZE:\n",
    "        embedding_vector = word2vec.get(word)\n",
    "        if embedding_vector is not None:\n",
    "            embedding_matrix[index] = embedding_vector"
   ]
  },
  {
   "cell_type": "code",
   "execution_count": 11,
   "metadata": {},
   "outputs": [],
   "source": [
    "embedding_layer = Embedding(num_words, EMBEDDING_DIM, weights = [embedding_matrix], \n",
    "                            input_length=MAX_SEQUENCE_LENGTH, trainable=False)"
   ]
  },
  {
   "cell_type": "code",
   "execution_count": 12,
   "metadata": {},
   "outputs": [
    {
     "name": "stdout",
     "output_type": "stream",
     "text": [
      "Model: \"model\"\n",
      "_________________________________________________________________\n",
      "Layer (type)                 Output Shape              Param #   \n",
      "=================================================================\n",
      "input_1 (InputLayer)         [(None, 100)]             0         \n",
      "_________________________________________________________________\n",
      "embedding (Embedding)        (None, 100, 100)          2000000   \n",
      "_________________________________________________________________\n",
      "conv1d (Conv1D)              (None, 98, 128)           38528     \n",
      "_________________________________________________________________\n",
      "max_pooling1d (MaxPooling1D) (None, 32, 128)           0         \n",
      "_________________________________________________________________\n",
      "conv1d_1 (Conv1D)            (None, 30, 128)           49280     \n",
      "_________________________________________________________________\n",
      "max_pooling1d_1 (MaxPooling1 (None, 10, 128)           0         \n",
      "_________________________________________________________________\n",
      "conv1d_2 (Conv1D)            (None, 8, 128)            49280     \n",
      "_________________________________________________________________\n",
      "global_max_pooling1d (Global (None, 128)               0         \n",
      "_________________________________________________________________\n",
      "dense (Dense)                (None, 128)               16512     \n",
      "_________________________________________________________________\n",
      "dense_1 (Dense)              (None, 6)                 774       \n",
      "=================================================================\n",
      "Total params: 2,154,374\n",
      "Trainable params: 154,374\n",
      "Non-trainable params: 2,000,000\n",
      "_________________________________________________________________\n"
     ]
    }
   ],
   "source": [
    "input_ = Input(shape=(MAX_SEQUENCE_LENGTH,))\n",
    "x = embedding_layer(input_)\n",
    "x = Conv1D(128,3,activation='relu')(x)\n",
    "x = MaxPooling1D(3)(x)\n",
    "x = Conv1D(128,3,activation='relu')(x)\n",
    "x = MaxPooling1D(3)(x)\n",
    "x = Conv1D(128,3,activation='relu')(x)\n",
    "x = GlobalMaxPooling1D()(x)\n",
    "x = Dense(128,activation='relu')(x)\n",
    "output = Dense(len(possible_labels),activation='sigmoid')(x)\n",
    "\n",
    "model = Model(input_, output)\n",
    "model.compile(loss = 'binary_crossentropy', optimizer='rmsprop', metrics=['accuracy'])\n",
    "model.summary()"
   ]
  },
  {
   "cell_type": "code",
   "execution_count": 13,
   "metadata": {},
   "outputs": [
    {
     "name": "stdout",
     "output_type": "stream",
     "text": [
      "Epoch 1/10\n",
      "250/250 [==============================] - 17s 31ms/step - loss: 0.1007 - accuracy: 0.9639 - val_loss: 0.0764 - val_accuracy: 0.9941\n",
      "Epoch 2/10\n",
      "250/250 [==============================] - 7s 28ms/step - loss: 0.0735 - accuracy: 0.9935 - val_loss: 0.0717 - val_accuracy: 0.9941\n",
      "Epoch 3/10\n",
      "250/250 [==============================] - 7s 28ms/step - loss: 0.0677 - accuracy: 0.9934 - val_loss: 0.0953 - val_accuracy: 0.9941\n",
      "Epoch 4/10\n",
      "250/250 [==============================] - 8s 30ms/step - loss: 0.0637 - accuracy: 0.9928 - val_loss: 0.0674 - val_accuracy: 0.9940\n",
      "Epoch 5/10\n",
      "250/250 [==============================] - 7s 30ms/step - loss: 0.0603 - accuracy: 0.9928 - val_loss: 0.0674 - val_accuracy: 0.9940\n",
      "Epoch 6/10\n",
      "250/250 [==============================] - 7s 28ms/step - loss: 0.0573 - accuracy: 0.9928 - val_loss: 0.0758 - val_accuracy: 0.9872\n",
      "Epoch 7/10\n",
      "250/250 [==============================] - 7s 27ms/step - loss: 0.0543 - accuracy: 0.9920 - val_loss: 0.0698 - val_accuracy: 0.9588\n",
      "Epoch 8/10\n",
      "250/250 [==============================] - 7s 28ms/step - loss: 0.0512 - accuracy: 0.9915 - val_loss: 0.0701 - val_accuracy: 0.9915\n",
      "Epoch 9/10\n",
      "250/250 [==============================] - 7s 28ms/step - loss: 0.0480 - accuracy: 0.9902 - val_loss: 0.0747 - val_accuracy: 0.9919\n",
      "Epoch 10/10\n",
      "250/250 [==============================] - 7s 28ms/step - loss: 0.0452 - accuracy: 0.9889 - val_loss: 0.0863 - val_accuracy: 0.9696\n"
     ]
    }
   ],
   "source": [
    "r = model.fit(data, target, batch_size=BATCH_SIZE, epochs=EPOCHS, validation_split=0.2)"
   ]
  },
  {
   "cell_type": "code",
   "execution_count": 14,
   "metadata": {},
   "outputs": [
    {
     "data": {
      "image/png": "[encoded data removed]",
      "text/plain": [
       "<Figure size 432x288 with 1 Axes>"
      ]
     },
     "metadata": {
      "needs_background": "light"
     },
     "output_type": "display_data"
    }
   ],
   "source": [
    "plt.plot(r.history['loss'], label = 'loss')\n",
    "plt.plot(r.history['val_loss'], label = 'validation_loss')\n",
    "plt.legend()\n",
    "plt.show()"
   ]
  },
  {
   "cell_type": "code",
   "execution_count": 15,
   "metadata": {},
   "outputs": [
    {
     "data": {
      "image/png": "[encoded data removed]",
      "text/plain": [
       "<Figure size 432x288 with 1 Axes>"
      ]
     },
     "metadata": {
      "needs_background": "light"
     },
     "output_type": "display_data"
    }
   ],
   "source": [
    "plt.plot(r.history['accuracy'], label = 'accuracy')\n",
    "plt.plot(r.history['val_accuracy'], label = 'validation_accuracy')\n",
    "plt.legend()\n",
    "plt.show()"
   ]
  },
  {
   "cell_type": "code",
   "execution_count": 20,
   "metadata": {},
   "outputs": [],
   "source": [
    "p = model.predict(data)\n",
    "aucs = []\n",
    "for j in range(6):\n",
    "    auc = roc_auc_score(target[:,j], p[:,j])\n",
    "    aucs.append(auc)"
   ]
  },
  {
   "cell_type": "code",
   "execution_count": 21,
   "metadata": {},
   "outputs": [
    {
     "name": "stdout",
     "output_type": "stream",
     "text": [
      "0.9791531168906333\n"
     ]
    }
   ],
   "source": [
    "print(np.mean(aucs))"
   ]
  },
  {
   "cell_type": "code",
   "execution_count": 22,
   "metadata": {},
   "outputs": [
    {
     "name": "stdout",
     "output_type": "stream",
     "text": [
      "[0.9700489608399613, 0.9873244783184398, 0.9831871120411793, 0.9770178698930525, 0.9795928300858523, 0.9777474501653135]\n"
     ]
    }
   ],
   "source": [
    "print(aucs)"
   ]
  },
  {
   "cell_type": "code",
   "execution_count": null,
   "metadata": {},
   "outputs": [],
   "source": []
  }
 ],
 "metadata": {
  "kernelspec": {
   "display_name": "Python 3",
   "language": "python",
   "name": "python3"
  },
  "language_info": {
   "codemirror_mode": {
    "name": "ipython",
    "version": 3
   },
   "file_extension": ".py",
   "mimetype": "text/x-python",
   "name": "python",
   "nbconvert_exporter": "python",
   "pygments_lexer": "ipython3",
   "version": "3.8.5"
  }
 },
 "nbformat": 4,
 "nbformat_minor": 4
}
