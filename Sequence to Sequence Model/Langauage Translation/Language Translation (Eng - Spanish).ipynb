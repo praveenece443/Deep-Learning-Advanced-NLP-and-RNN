{
 "cells": [
  {
   "cell_type": "code",
   "execution_count": 1,
   "metadata": {},
   "outputs": [],
   "source": [
    "import os, sys\n",
    "\n",
    "from tensorflow.keras.models import Model\n",
    "from tensorflow.keras.layers import Input, LSTM, GRU, Dense, Embedding\n",
    "from tensorflow.keras.preprocessing.text import Tokenizer\n",
    "from tensorflow.keras.preprocessing.sequence import pad_sequences\n",
    "from tensorflow.keras.utils import to_categorical\n",
    "import numpy as np\n",
    "import matplotlib.pyplot as plt"
   ]
  },
  {
   "cell_type": "code",
   "execution_count": 2,
   "metadata": {},
   "outputs": [],
   "source": [
    "# some config\n",
    "BATCH_SIZE = 64  # Batch size for training.\n",
    "EPOCHS = 40  # Number of epochs to train for.\n",
    "LATENT_DIM = 256  # Latent dimensionality of the encoding space.\n",
    "NUM_SAMPLES = 10000  # Number of samples to train on.\n",
    "MAX_NUM_WORDS = 20000\n",
    "EMBEDDING_DIM = 100"
   ]
  },
  {
   "cell_type": "code",
   "execution_count": 3,
   "metadata": {},
   "outputs": [],
   "source": [
    "# Where we will store the data\n",
    "input_texts = [] # sentence in original language\n",
    "target_texts = [] # sentence in target language\n",
    "target_texts_inputs = [] # sentence in target language offset by 1"
   ]
  },
  {
   "cell_type": "code",
   "execution_count": 4,
   "metadata": {},
   "outputs": [
    {
     "name": "stdout",
     "output_type": "stream",
     "text": [
      "num samples: 10000\n"
     ]
    }
   ],
   "source": [
    "# load in the data\n",
    "t = 0\n",
    "for line in open(r'spa.txt', encoding='utf-8'):\n",
    "    # only keep a limited number of samples\n",
    "    t += 1\n",
    "    if t > NUM_SAMPLES:\n",
    "        break\n",
    "\n",
    "    # input and target are separated by tab\n",
    "    if '\\t' not in line:\n",
    "        continue\n",
    "\n",
    "    # split up the input and translation\n",
    "    input_text, translation, *rest = line.rstrip().split('\\t')\n",
    "\n",
    "    # make the target input and output\n",
    "    # recall we'll be using teacher forcing\n",
    "    target_text = translation + ' <eos>'\n",
    "    target_text_input = '<sos> ' + translation\n",
    "\n",
    "    input_texts.append(input_text)\n",
    "    target_texts.append(target_text)\n",
    "    target_texts_inputs.append(target_text_input)\n",
    "print(\"num samples:\", len(input_texts))"
   ]
  },
  {
   "cell_type": "code",
   "execution_count": 5,
   "metadata": {},
   "outputs": [],
   "source": [
    "# tokenize the inputs\n",
    "tokenizer_inputs = Tokenizer(num_words=MAX_NUM_WORDS)\n",
    "tokenizer_inputs.fit_on_texts(input_texts)\n",
    "input_sequences = tokenizer_inputs.texts_to_sequences(input_texts)"
   ]
  },
  {
   "cell_type": "code",
   "execution_count": 6,
   "metadata": {},
   "outputs": [
    {
     "name": "stdout",
     "output_type": "stream",
     "text": [
      "Found 2364 unique input tokens.\n"
     ]
    }
   ],
   "source": [
    "# get the word to index mapping for input language\n",
    "word2idx_inputs = tokenizer_inputs.word_index\n",
    "print('Found %s unique input tokens.' % len(word2idx_inputs))\n",
    "\n",
    "# determine maximum length input sequence\n",
    "max_len_input = max(len(s) for s in input_sequences)"
   ]
  },
  {
   "cell_type": "code",
   "execution_count": 7,
   "metadata": {},
   "outputs": [],
   "source": [
    "# tokenize the outputs\n",
    "# don't filter out special characters\n",
    "# otherwise <sos> and <eos> won't appear\n",
    "tokenizer_outputs = Tokenizer(num_words=MAX_NUM_WORDS, filters='')\n",
    "tokenizer_outputs.fit_on_texts(target_texts + target_texts_inputs) # inefficient, oh well\n",
    "target_sequences = tokenizer_outputs.texts_to_sequences(target_texts)\n",
    "target_sequences_inputs = tokenizer_outputs.texts_to_sequences(target_texts_inputs)"
   ]
  },
  {
   "cell_type": "code",
   "execution_count": 8,
   "metadata": {},
   "outputs": [
    {
     "name": "stdout",
     "output_type": "stream",
     "text": [
      "Found 6294 unique output tokens.\n"
     ]
    }
   ],
   "source": [
    "# get the word to index mapping for output language\n",
    "word2idx_outputs = tokenizer_outputs.word_index\n",
    "print('Found %s unique output tokens.' % len(word2idx_outputs))"
   ]
  },
  {
   "cell_type": "code",
   "execution_count": 9,
   "metadata": {},
   "outputs": [],
   "source": [
    "# store number of output words for later\n",
    "# remember to add 1 since indexing starts at 1\n",
    "num_words_output = len(word2idx_outputs) + 1\n",
    "\n",
    "# determine maximum length output sequence\n",
    "max_len_target = max(len(s) for s in target_sequences)"
   ]
  },
  {
   "cell_type": "code",
   "execution_count": 10,
   "metadata": {},
   "outputs": [
    {
     "name": "stdout",
     "output_type": "stream",
     "text": [
      "encoder_inputs.shape: (10000, 5)\n",
      "encoder_inputs[0]: [ 0  0  0  0 14]\n",
      "decoder_inputs[0]: [   2 1480    0    0    0    0    0    0    0]\n",
      "decoder_inputs.shape: (10000, 9)\n"
     ]
    }
   ],
   "source": [
    "# pad the sequences\n",
    "encoder_inputs = pad_sequences(input_sequences, maxlen=max_len_input)\n",
    "print(\"encoder_inputs.shape:\", encoder_inputs.shape)\n",
    "print(\"encoder_inputs[0]:\", encoder_inputs[0])\n",
    "\n",
    "decoder_inputs = pad_sequences(target_sequences_inputs, maxlen=max_len_target, padding='post')\n",
    "print(\"decoder_inputs[0]:\", decoder_inputs[0])\n",
    "print(\"decoder_inputs.shape:\", decoder_inputs.shape)\n",
    "\n",
    "decoder_targets = pad_sequences(target_sequences, maxlen=max_len_target, padding='post')"
   ]
  },
  {
   "cell_type": "code",
   "execution_count": 12,
   "metadata": {},
   "outputs": [
    {
     "name": "stdout",
     "output_type": "stream",
     "text": [
      "Loading word vectors...\n",
      "Found 400000 word vectors.\n"
     ]
    }
   ],
   "source": [
    "# store all the pre-trained word vectors\n",
    "print('Loading word vectors...')\n",
    "word2vec = {}\n",
    "with open(os.path.join('glove6d/glove.6B.%sd.txt' % EMBEDDING_DIM),encoding='utf-8' ) as f:\n",
    "  # is just a space-separated text file in the format:\n",
    "  # word vec[0] vec[1] vec[2] ...\n",
    "    for line in f:\n",
    "        values = line.split()\n",
    "        word = values[0]\n",
    "        vec = np.asarray(values[1:], dtype='float32')\n",
    "        word2vec[word] = vec\n",
    "print('Found %s word vectors.' % len(word2vec))"
   ]
  },
  {
   "cell_type": "code",
   "execution_count": 13,
   "metadata": {},
   "outputs": [
    {
     "name": "stdout",
     "output_type": "stream",
     "text": [
      "Filling pre-trained embeddings...\n"
     ]
    }
   ],
   "source": [
    "# prepare embedding matrix\n",
    "print('Filling pre-trained embeddings...')\n",
    "num_words = min(MAX_NUM_WORDS, len(word2idx_inputs) + 1)\n",
    "embedding_matrix = np.zeros((num_words, EMBEDDING_DIM))\n",
    "for word, i in word2idx_inputs.items():\n",
    "    if i < MAX_NUM_WORDS:\n",
    "        embedding_vector = word2vec.get(word)\n",
    "        if embedding_vector is not None:\n",
    "            # words not found in embedding index will be all zeros.\n",
    "            embedding_matrix[i] = embedding_vector"
   ]
  },
  {
   "cell_type": "code",
   "execution_count": 14,
   "metadata": {},
   "outputs": [],
   "source": [
    "# create embedding layer\n",
    "embedding_layer = Embedding(num_words, EMBEDDING_DIM, weights=[embedding_matrix], input_length=max_len_input)"
   ]
  },
  {
   "cell_type": "code",
   "execution_count": 15,
   "metadata": {},
   "outputs": [],
   "source": [
    "# create targets, since we cannot use sparse\n",
    "# categorical cross entropy when we have sequences\n",
    "decoder_targets_one_hot = np.zeros( (len(input_texts), max_len_target,num_words_output), dtype='float32')"
   ]
  },
  {
   "cell_type": "code",
   "execution_count": 16,
   "metadata": {},
   "outputs": [],
   "source": [
    "# assign the values\n",
    "for i, d in enumerate(decoder_targets):\n",
    "    for t, word in enumerate(d):\n",
    "        if word != 0:\n",
    "            decoder_targets_one_hot[i, t, word] = 1"
   ]
  },
  {
   "cell_type": "code",
   "execution_count": 17,
   "metadata": {},
   "outputs": [
    {
     "name": "stdout",
     "output_type": "stream",
     "text": [
      "[[0. 0. 0. ... 0. 0. 0.]\n",
      " [0. 1. 0. ... 0. 0. 0.]\n",
      " [0. 0. 0. ... 0. 0. 0.]\n",
      " ...\n",
      " [0. 0. 0. ... 0. 0. 0.]\n",
      " [0. 0. 0. ... 0. 0. 0.]\n",
      " [0. 0. 0. ... 0. 0. 0.]]\n"
     ]
    }
   ],
   "source": [
    "print(decoder_targets_one_hot[0])"
   ]
  },
  {
   "cell_type": "code",
   "execution_count": 18,
   "metadata": {},
   "outputs": [
    {
     "name": "stdout",
     "output_type": "stream",
     "text": [
      "(10000, 9, 6295)\n"
     ]
    }
   ],
   "source": [
    "print(decoder_targets_one_hot.shape)"
   ]
  },
  {
   "cell_type": "code",
   "execution_count": 19,
   "metadata": {},
   "outputs": [
    {
     "name": "stdout",
     "output_type": "stream",
     "text": [
      "Model: \"model\"\n",
      "__________________________________________________________________________________________________\n",
      "Layer (type)                    Output Shape         Param #     Connected to                     \n",
      "==================================================================================================\n",
      "input_1 (InputLayer)            [(None, 5)]          0                                            \n",
      "__________________________________________________________________________________________________\n",
      "input_2 (InputLayer)            [(None, 9)]          0                                            \n",
      "__________________________________________________________________________________________________\n",
      "embedding (Embedding)           (None, 5, 100)       236500      input_1[0][0]                    \n",
      "__________________________________________________________________________________________________\n",
      "embedding_1 (Embedding)         (None, 9, 100)       629500      input_2[0][0]                    \n",
      "__________________________________________________________________________________________________\n",
      "lstm (LSTM)                     [(None, 256), (None, 365568      embedding[0][0]                  \n",
      "__________________________________________________________________________________________________\n",
      "lstm_1 (LSTM)                   [(None, 9, 256), (No 365568      embedding_1[0][0]                \n",
      "                                                                 lstm[0][1]                       \n",
      "                                                                 lstm[0][2]                       \n",
      "__________________________________________________________________________________________________\n",
      "dense (Dense)                   (None, 9, 6295)      1617815     lstm_1[0][0]                     \n",
      "==================================================================================================\n",
      "Total params: 3,214,951\n",
      "Trainable params: 3,214,951\n",
      "Non-trainable params: 0\n",
      "__________________________________________________________________________________________________\n"
     ]
    }
   ],
   "source": [
    "##### build the model #####\n",
    "encoder_inputs_placeholder = Input(shape=(max_len_input,))\n",
    "x = embedding_layer(encoder_inputs_placeholder)\n",
    "encoder = LSTM( LATENT_DIM, return_state=True)\n",
    "encoder_outputs, h, c = encoder(x)\n",
    "\n",
    "# keep only the states to pass into decoder\n",
    "encoder_states = [h, c]\n",
    "# encoder_states = [state_h] # gru\n",
    "\n",
    "# Set up the decoder, using [h, c] as initial state.\n",
    "decoder_inputs_placeholder = Input(shape=(max_len_target,))\n",
    "\n",
    "# this word embedding will not use pre-trained vectors\n",
    "# although you could\n",
    "decoder_embedding = Embedding(num_words_output, EMBEDDING_DIM)\n",
    "decoder_inputs_x = decoder_embedding(decoder_inputs_placeholder)\n",
    "\n",
    "# since the decoder is a \"to-many\" model we want to have\n",
    "# return_sequences=True\n",
    "decoder_lstm = LSTM( LATENT_DIM, return_sequences=True, return_state=True)\n",
    "decoder_outputs, _, _ = decoder_lstm( decoder_inputs_x, initial_state=encoder_states)\n",
    "\n",
    "# final dense layer for predictions\n",
    "decoder_dense = Dense(num_words_output, activation='softmax')\n",
    "decoder_outputs = decoder_dense(decoder_outputs)\n",
    "\n",
    "# Create the model object\n",
    "model = Model([encoder_inputs_placeholder, decoder_inputs_placeholder], decoder_outputs)\n",
    "model.summary()"
   ]
  },
  {
   "cell_type": "code",
   "execution_count": 20,
   "metadata": {},
   "outputs": [],
   "source": [
    "import tensorflow.keras.backend as K\n",
    "\n",
    "def custom_loss(y_true, y_pred):\n",
    "    # both are of shape N x T x K\n",
    "    mask = K.cast(y_true > 0, dtype='float32')\n",
    "    out = mask * y_true * K.log(y_pred)\n",
    "    return -K.sum(out) / K.sum(mask)"
   ]
  },
  {
   "cell_type": "code",
   "execution_count": 21,
   "metadata": {},
   "outputs": [],
   "source": [
    "def acc(y_true, y_pred):\n",
    "    # both are of shape N x T x K\n",
    "    targ = K.argmax(y_true, axis=-1)\n",
    "    pred = K.argmax(y_pred, axis=-1)\n",
    "    correct = K.cast(K.equal(targ, pred), dtype='float32')\n",
    "\n",
    "    # 0 is padding, don't include those\n",
    "    mask = K.cast(K.greater(targ, 0), dtype='float32')\n",
    "    n_correct = K.sum(mask * correct)\n",
    "    n_total = K.sum(mask)\n",
    "    return n_correct / n_total"
   ]
  },
  {
   "cell_type": "code",
   "execution_count": 22,
   "metadata": {},
   "outputs": [],
   "source": [
    "model.compile(optimizer='adam', loss=custom_loss, metrics=[acc])"
   ]
  },
  {
   "cell_type": "code",
   "execution_count": 23,
   "metadata": {},
   "outputs": [
    {
     "name": "stdout",
     "output_type": "stream",
     "text": [
      "Epoch 1/40\n",
      "125/125 [==============================] - 12s 60ms/step - loss: 5.9741 - acc: 0.2726 - val_loss: 5.5662 - val_acc: 0.2689\n",
      "Epoch 2/40\n",
      "125/125 [==============================] - 7s 54ms/step - loss: 4.9494 - acc: 0.2945 - val_loss: 5.3660 - val_acc: 0.2815\n",
      "Epoch 3/40\n",
      "125/125 [==============================] - 7s 55ms/step - loss: 4.5952 - acc: 0.3146 - val_loss: 5.1864 - val_acc: 0.3065\n",
      "Epoch 4/40\n",
      "125/125 [==============================] - 7s 55ms/step - loss: 4.2704 - acc: 0.3427 - val_loss: 5.0420 - val_acc: 0.3211\n",
      "Epoch 5/40\n",
      "125/125 [==============================] - 7s 55ms/step - loss: 3.9557 - acc: 0.3766 - val_loss: 4.9136 - val_acc: 0.3449\n",
      "Epoch 6/40\n",
      "125/125 [==============================] - 7s 55ms/step - loss: 3.6774 - acc: 0.4094 - val_loss: 4.8490 - val_acc: 0.3612\n",
      "Epoch 7/40\n",
      "125/125 [==============================] - 7s 55ms/step - loss: 3.4421 - acc: 0.4314 - val_loss: 4.7815 - val_acc: 0.3738\n",
      "Epoch 8/40\n",
      "125/125 [==============================] - 7s 54ms/step - loss: 3.2287 - acc: 0.4487 - val_loss: 4.7462 - val_acc: 0.3882\n",
      "Epoch 9/40\n",
      "125/125 [==============================] - 7s 55ms/step - loss: 3.0244 - acc: 0.4693 - val_loss: 4.6796 - val_acc: 0.3988\n",
      "Epoch 10/40\n",
      "125/125 [==============================] - 7s 56ms/step - loss: 2.8321 - acc: 0.4905 - val_loss: 4.6567 - val_acc: 0.4100\n",
      "Epoch 11/40\n",
      "125/125 [==============================] - 7s 55ms/step - loss: 2.6452 - acc: 0.5105 - val_loss: 4.6743 - val_acc: 0.4097\n",
      "Epoch 12/40\n",
      "125/125 [==============================] - 7s 55ms/step - loss: 2.4673 - acc: 0.5302 - val_loss: 4.6703 - val_acc: 0.4165\n",
      "Epoch 13/40\n",
      "125/125 [==============================] - 7s 54ms/step - loss: 2.3001 - acc: 0.5481 - val_loss: 4.6544 - val_acc: 0.4207\n",
      "Epoch 14/40\n",
      "125/125 [==============================] - 7s 55ms/step - loss: 2.1400 - acc: 0.5678 - val_loss: 4.6525 - val_acc: 0.4156\n",
      "Epoch 15/40\n",
      "125/125 [==============================] - 7s 55ms/step - loss: 1.9900 - acc: 0.5863 - val_loss: 4.6668 - val_acc: 0.4214\n",
      "Epoch 16/40\n",
      "125/125 [==============================] - 7s 55ms/step - loss: 1.8469 - acc: 0.6079 - val_loss: 4.6994 - val_acc: 0.4250\n",
      "Epoch 17/40\n",
      "125/125 [==============================] - 7s 55ms/step - loss: 1.7145 - acc: 0.6268 - val_loss: 4.6930 - val_acc: 0.4189\n",
      "Epoch 18/40\n",
      "125/125 [==============================] - 7s 55ms/step - loss: 1.5885 - acc: 0.6504 - val_loss: 4.7169 - val_acc: 0.4187\n",
      "Epoch 19/40\n",
      "125/125 [==============================] - 7s 55ms/step - loss: 1.4698 - acc: 0.6706 - val_loss: 4.7242 - val_acc: 0.4131\n",
      "Epoch 20/40\n",
      "125/125 [==============================] - 7s 55ms/step - loss: 1.3604 - acc: 0.6945 - val_loss: 4.7167 - val_acc: 0.4168\n",
      "Epoch 21/40\n",
      "125/125 [==============================] - 7s 55ms/step - loss: 1.2544 - acc: 0.7156 - val_loss: 4.7477 - val_acc: 0.4146\n",
      "Epoch 22/40\n",
      "125/125 [==============================] - 7s 55ms/step - loss: 1.1609 - acc: 0.7353 - val_loss: 4.7761 - val_acc: 0.4162\n",
      "Epoch 23/40\n",
      "125/125 [==============================] - 7s 55ms/step - loss: 1.0728 - acc: 0.7525 - val_loss: 4.7788 - val_acc: 0.4135\n",
      "Epoch 24/40\n",
      "125/125 [==============================] - 7s 55ms/step - loss: 0.9910 - acc: 0.7688 - val_loss: 4.8174 - val_acc: 0.4106\n",
      "Epoch 25/40\n",
      "125/125 [==============================] - 7s 54ms/step - loss: 0.9199 - acc: 0.7863 - val_loss: 4.8253 - val_acc: 0.4109\n",
      "Epoch 26/40\n",
      "125/125 [==============================] - 7s 55ms/step - loss: 0.8526 - acc: 0.7979 - val_loss: 4.8737 - val_acc: 0.4116\n",
      "Epoch 27/40\n",
      "125/125 [==============================] - 7s 54ms/step - loss: 0.7889 - acc: 0.8113 - val_loss: 4.8977 - val_acc: 0.4098\n",
      "Epoch 28/40\n",
      "125/125 [==============================] - 7s 54ms/step - loss: 0.7332 - acc: 0.8222 - val_loss: 4.8913 - val_acc: 0.4106\n",
      "Epoch 29/40\n",
      "125/125 [==============================] - 7s 54ms/step - loss: 0.6823 - acc: 0.8333 - val_loss: 4.9447 - val_acc: 0.4058\n",
      "Epoch 30/40\n",
      "125/125 [==============================] - 7s 54ms/step - loss: 0.6383 - acc: 0.8394 - val_loss: 4.9320 - val_acc: 0.4083\n",
      "Epoch 31/40\n",
      "125/125 [==============================] - 7s 55ms/step - loss: 0.5971 - acc: 0.8489 - val_loss: 4.9658 - val_acc: 0.4115\n",
      "Epoch 32/40\n",
      "125/125 [==============================] - 7s 54ms/step - loss: 0.5581 - acc: 0.8560 - val_loss: 4.9868 - val_acc: 0.4062\n",
      "Epoch 33/40\n",
      "125/125 [==============================] - 7s 55ms/step - loss: 0.5252 - acc: 0.8613 - val_loss: 5.0359 - val_acc: 0.4065\n",
      "Epoch 34/40\n",
      "125/125 [==============================] - 7s 55ms/step - loss: 0.4945 - acc: 0.8664 - val_loss: 5.0112 - val_acc: 0.4059\n",
      "Epoch 35/40\n",
      "125/125 [==============================] - 7s 55ms/step - loss: 0.4659 - acc: 0.8709 - val_loss: 5.0509 - val_acc: 0.4046\n",
      "Epoch 36/40\n",
      "125/125 [==============================] - 7s 54ms/step - loss: 0.4406 - acc: 0.8723 - val_loss: 5.0611 - val_acc: 0.4066\n",
      "Epoch 37/40\n",
      "125/125 [==============================] - 7s 55ms/step - loss: 0.4164 - acc: 0.8779 - val_loss: 5.0840 - val_acc: 0.4043\n",
      "Epoch 38/40\n",
      "125/125 [==============================] - 7s 55ms/step - loss: 0.3970 - acc: 0.8815 - val_loss: 5.1128 - val_acc: 0.4082\n",
      "Epoch 39/40\n",
      "125/125 [==============================] - 7s 55ms/step - loss: 0.3796 - acc: 0.8827 - val_loss: 5.1159 - val_acc: 0.4064\n",
      "Epoch 40/40\n",
      "125/125 [==============================] - 7s 55ms/step - loss: 0.3632 - acc: 0.8842 - val_loss: 5.1393 - val_acc: 0.4039\n"
     ]
    }
   ],
   "source": [
    "r = model.fit( [encoder_inputs, decoder_inputs], decoder_targets_one_hot, \n",
    "              batch_size=BATCH_SIZE, epochs=EPOCHS, validation_split=0.2)"
   ]
  },
  {
   "cell_type": "code",
   "execution_count": 25,
   "metadata": {},
   "outputs": [
    {
     "data": {
      "image/png": "[encoded data removed]",
      "text/plain": [
       "<Figure size 432x288 with 1 Axes>"
      ]
     },
     "metadata": {
      "needs_background": "light"
     },
     "output_type": "display_data"
    },
    {
     "data": {
      "image/png": "[encoded data removed]",
      "text/plain": [
       "<Figure size 432x288 with 1 Axes>"
      ]
     },
     "metadata": {
      "needs_background": "light"
     },
     "output_type": "display_data"
    }
   ],
   "source": [
    "# plot some data\n",
    "plt.plot(r.history['loss'], label='loss')\n",
    "plt.plot(r.history['val_loss'], label='val_loss')\n",
    "plt.legend()\n",
    "plt.show()\n",
    "\n",
    "# accuracies\n",
    "plt.plot(r.history['acc'], label='acc')\n",
    "plt.plot(r.history['val_acc'], label='val_acc')\n",
    "plt.legend()\n",
    "plt.show()\n",
    "\n",
    "# Save model\n",
    "model.save('s2s.h5')"
   ]
  },
  {
   "cell_type": "markdown",
   "metadata": {},
   "source": [
    "##### Make predictions #####\n",
    " As with the poetry example, we need to create another model that can take in the RNN state and previous word as input\n",
    " and accept a T=1 sequence. The encoder will be stand-alone From this we will get our initial decoder hidden state"
   ]
  },
  {
   "cell_type": "code",
   "execution_count": 26,
   "metadata": {},
   "outputs": [],
   "source": [
    "encoder_model = Model(encoder_inputs_placeholder, encoder_states)\n",
    "\n",
    "decoder_state_input_h = Input(shape=(LATENT_DIM,))\n",
    "decoder_state_input_c = Input(shape=(LATENT_DIM,))\n",
    "decoder_states_inputs = [decoder_state_input_h, decoder_state_input_c]\n",
    "# decoder_states_inputs = [decoder_state_input_h] # gru\n",
    "\n",
    "decoder_inputs_single = Input(shape=(1,))\n",
    "decoder_inputs_single_x = decoder_embedding(decoder_inputs_single)\n",
    "\n",
    "# this time, we want to keep the states too, to be output\n",
    "# by our sampling model\n",
    "decoder_outputs, h, c = decoder_lstm( decoder_inputs_single_x, initial_state=decoder_states_inputs)\n",
    "# decoder_outputs, state_h = decoder_lstm(\n",
    "#   decoder_inputs_single_x,\n",
    "#   initial_state=decoder_states_inputs\n",
    "# ) #gru\n",
    "decoder_states = [h, c]\n",
    "# decoder_states = [h] # gru\n",
    "decoder_outputs = decoder_dense(decoder_outputs)\n",
    "\n",
    "# The sampling model\n",
    "# inputs: y(t-1), h(t-1), c(t-1)\n",
    "# outputs: y(t), h(t), c(t)\n",
    "decoder_model = Model( [decoder_inputs_single] + decoder_states_inputs,  [decoder_outputs] + decoder_states)"
   ]
  },
  {
   "cell_type": "code",
   "execution_count": 27,
   "metadata": {},
   "outputs": [],
   "source": [
    "# map indexes back into real words\n",
    "# so we can view the results\n",
    "idx2word_eng = {v:k for k, v in word2idx_inputs.items()}\n",
    "idx2word_trans = {v:k for k, v in word2idx_outputs.items()}"
   ]
  },
  {
   "cell_type": "code",
   "execution_count": 31,
   "metadata": {},
   "outputs": [],
   "source": [
    "def decode_sequence(input_seq):\n",
    "    # Encode the input as state vectors.\n",
    "    states_value = encoder_model.predict(input_seq)\n",
    "\n",
    "    # Generate empty target sequence of length 1.\n",
    "    target_seq = np.zeros((1, 1))\n",
    "\n",
    "    # Populate the first character of target sequence with the start character.\n",
    "    # NOTE: tokenizer lower-cases all words\n",
    "    target_seq[0, 0] = word2idx_outputs['<sos>']\n",
    "\n",
    "    # if we get this we break\n",
    "    eos = word2idx_outputs['<eos>']\n",
    "\n",
    "    # Create the translation\n",
    "    output_sentence = []\n",
    "    for _ in range(max_len_target):\n",
    "        output_tokens, h, c = decoder_model.predict([target_seq] + states_value )\n",
    "\n",
    "        # Get next word\n",
    "        idx = np.argmax(output_tokens[0, 0, :])\n",
    "\n",
    "        # End sentence of EOS\n",
    "        if eos == idx:\n",
    "            break\n",
    "\n",
    "        word = ''\n",
    "        if idx > 0:\n",
    "            word = idx2word_trans[idx]\n",
    "            output_sentence.append(word)\n",
    "\n",
    "        # Update the decoder input\n",
    "        # which is just the word just generated\n",
    "        target_seq[0, 0] = idx\n",
    "\n",
    "        # Update states\n",
    "        states_value = [h, c]\n",
    "        # states_value = [h] # gru\n",
    "\n",
    "    return ' '.join(output_sentence)"
   ]
  },
  {
   "cell_type": "code",
   "execution_count": 32,
   "metadata": {},
   "outputs": [
    {
     "name": "stdout",
     "output_type": "stream",
     "text": [
      "-\n",
      "Input: Are you 18?\n",
      "Translation: ¿tienes dieciocho?\n",
      "Continue? [Y/n]y\n",
      "-\n",
      "Input: Let me get it.\n",
      "Translation: déjame cogerlo.\n",
      "Continue? [Y/n]y\n",
      "-\n",
      "Input: I admit it.\n",
      "Translation: lo admito.\n",
      "Continue? [Y/n]n\n"
     ]
    }
   ],
   "source": [
    "while True:\n",
    "    # Do some test translations\n",
    "    i = np.random.choice(len(input_texts))\n",
    "    input_seq = encoder_inputs[i:i+1]\n",
    "    translation = decode_sequence(input_seq)\n",
    "    print('-')\n",
    "    print('Input:', input_texts[i])\n",
    "    print('Translation:', translation)\n",
    "\n",
    "    ans = input(\"Continue? [Y/n]\")\n",
    "    if ans and ans.lower().startswith('n'):\n",
    "        break"
   ]
  },
  {
   "cell_type": "code",
   "execution_count": null,
   "metadata": {},
   "outputs": [],
   "source": []
  }
 ],
 "metadata": {
  "kernelspec": {
   "display_name": "Python 3",
   "language": "python",
   "name": "python3"
  },
  "language_info": {
   "codemirror_mode": {
    "name": "ipython",
    "version": 3
   },
   "file_extension": ".py",
   "mimetype": "text/x-python",
   "name": "python",
   "nbconvert_exporter": "python",
   "pygments_lexer": "ipython3",
   "version": "3.8.5"
  }
 },
 "nbformat": 4,
 "nbformat_minor": 4
}
